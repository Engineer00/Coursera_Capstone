{
 "cells": [
  {
   "cell_type": "markdown",
   "metadata": {
    "pycharm": {
     "name": "#%% md\n"
    }
   },
   "source": [
    "# This notebook will be mainly used for the Capstone Project"
   ]
  },
  {
   "cell_type": "code",
   "execution_count": 163,
   "metadata": {
    "pycharm": {
     "name": "#%%\n"
    }
   },
   "outputs": [
    {
     "name": "stdout",
     "output_type": "stream",
     "text": [
      "Hello Capstone Project Course!\n"
     ]
    }
   ],
   "source": [
    "import pandas as pd\n",
    "\n",
    "import numpy as np\n",
    "import sklearn\n",
    "from sklearn.preprocessing import LabelEncoder\n",
    "import matplotlib.pyplot as plt\n",
    "import seaborn as sns\n",
    "\n",
    "print(\"Hello Capstone Project Course!\")"
   ]
  },
  {
   "cell_type": "markdown",
   "metadata": {
    "pycharm": {
     "name": "#%% md\n"
    }
   },
   "source": [
    "# Introduction & Business Understanding\n",
    "\n",
    "Road accidents are one of the major causes of death and disability all over the world. Reason for road accidents can be\n",
    "environmental conditions such as weather, traffic on road, type of road, speed and light conditions. The paper addresses \n",
    "the in-depth analysis that identifies as the contributory factors behind the road accidents and the quantification of the \n",
    "factors that affect the frequency and severity of accidents based on the crash data available.The severity of each accident\n",
    "can be predicted quite accurately with various classification machine learning algorithms. This can ultimately help \n",
    "government, traffic police, medical institutions, individual drivers and the insurance companies by getting \n",
    "useful insights of the accident severity regarding the causes and consequences of the accidents.The Machine Learning model\n",
    "and its results are going to provide some advice for the target audience to make insightful decisions for reducing\n",
    "the number of accidents and injuries for the city. The model will predict the accident severity with various\n",
    "supervised machine learning algorithms i.e.\n",
    "Algorithm A. Logistic regression\n",
    "Algorithm B. The K-Nearest Neighbors (KNN) algorithm\n",
    "Algorithm C. Decision Tree\n",
    "Algorithm D. Random Forest\n",
    "And finally, the accuracy score versus algorithm will be plotted to check which algorithm performs better."
   ]
  },
  {
   "cell_type": "markdown",
   "metadata": {
    "pycharm": {
     "name": "#%% md\n"
    }
   },
   "source": [
    "# Data\n",
    "\n",
    "The data used for this project was collected by the SDOT traffic management Division and Seattle Traffic Records Group \n",
    "from 2004 to present. It was downloaded from the link shared in the IBM Applied Data Science Capstone course.\n",
    "The data consists of 38 independent variables and 194,673 rows. The dependent variable, “SEVERITYCODE”, contains \n",
    "numbers that correspond to different levels of severity caused by an accident from 1 to 2. Severity codes are as follows: \n",
    "1: Property Damage Only Collision \n",
    "2: Injury Collision\n",
    "Furthermore, as there are null values in some records, the data needs to be pre-processed before any further processing."
   ]
  },
  {
   "cell_type": "markdown",
   "metadata": {},
   "source": [
    "# Reading the CSV Data"
   ]
  },
  {
   "cell_type": "code",
   "execution_count": 179,
   "metadata": {
    "pycharm": {
     "name": "#%%\n"
    }
   },
   "outputs": [
    {
     "name": "stderr",
     "output_type": "stream",
     "text": [
      "c:\\users\\salma\\pycharmprojects\\pythonproject1\\venv\\lib\\site-packages\\IPython\\core\\interactiveshell.py:3145: DtypeWarning: Columns (33) have mixed types.Specify dtype option on import or set low_memory=False.\n",
      "  has_raised = await self.run_ast_nodes(code_ast.body, cell_name,\n"
     ]
    },
    {
     "name": "stdout",
     "output_type": "stream",
     "text": [
      "<class 'pandas.core.frame.DataFrame'>\n",
      "RangeIndex: 194673 entries, 0 to 194672\n",
      "Data columns (total 38 columns):\n",
      " #   Column          Non-Null Count   Dtype  \n",
      "---  ------          --------------   -----  \n",
      " 0   SEVERITYCODE    194673 non-null  int64  \n",
      " 1   X               189339 non-null  float64\n",
      " 2   Y               189339 non-null  float64\n",
      " 3   OBJECTID        194673 non-null  int64  \n",
      " 4   INCKEY          194673 non-null  int64  \n",
      " 5   COLDETKEY       194673 non-null  int64  \n",
      " 6   REPORTNO        194673 non-null  object \n",
      " 7   STATUS          194673 non-null  object \n",
      " 8   ADDRTYPE        192747 non-null  object \n",
      " 9   INTKEY          65070 non-null   float64\n",
      " 10  LOCATION        191996 non-null  object \n",
      " 11  EXCEPTRSNCODE   84811 non-null   object \n",
      " 12  EXCEPTRSNDESC   5638 non-null    object \n",
      " 13  SEVERITYCODE.1  194673 non-null  int64  \n",
      " 14  SEVERITYDESC    194673 non-null  object \n",
      " 15  COLLISIONTYPE   189769 non-null  object \n",
      " 16  PERSONCOUNT     194673 non-null  int64  \n",
      " 17  PEDCOUNT        194673 non-null  int64  \n",
      " 18  PEDCYLCOUNT     194673 non-null  int64  \n",
      " 19  VEHCOUNT        194673 non-null  int64  \n",
      " 20  INCDATE         194673 non-null  object \n",
      " 21  INCDTTM         194673 non-null  object \n",
      " 22  JUNCTIONTYPE    188344 non-null  object \n",
      " 23  SDOT_COLCODE    194673 non-null  int64  \n",
      " 24  SDOT_COLDESC    194673 non-null  object \n",
      " 25  INATTENTIONIND  29805 non-null   object \n",
      " 26  UNDERINFL       189789 non-null  object \n",
      " 27  WEATHER         189592 non-null  object \n",
      " 28  ROADCOND        189661 non-null  object \n",
      " 29  LIGHTCOND       189503 non-null  object \n",
      " 30  PEDROWNOTGRNT   4667 non-null    object \n",
      " 31  SDOTCOLNUM      114936 non-null  float64\n",
      " 32  SPEEDING        9333 non-null    object \n",
      " 33  ST_COLCODE      194655 non-null  object \n",
      " 34  ST_COLDESC      189769 non-null  object \n",
      " 35  SEGLANEKEY      194673 non-null  int64  \n",
      " 36  CROSSWALKKEY    194673 non-null  int64  \n",
      " 37  HITPARKEDCAR    194673 non-null  object \n",
      "dtypes: float64(4), int64(12), object(22)\n",
      "memory usage: 56.4+ MB\n"
     ]
    },
    {
     "data": {
      "text/html": [
       "<div>\n",
       "<style scoped>\n",
       "    .dataframe tbody tr th:only-of-type {\n",
       "        vertical-align: middle;\n",
       "    }\n",
       "\n",
       "    .dataframe tbody tr th {\n",
       "        vertical-align: top;\n",
       "    }\n",
       "\n",
       "    .dataframe thead th {\n",
       "        text-align: right;\n",
       "    }\n",
       "</style>\n",
       "<table border=\"1\" class=\"dataframe\">\n",
       "  <thead>\n",
       "    <tr style=\"text-align: right;\">\n",
       "      <th></th>\n",
       "      <th>SEVERITYCODE</th>\n",
       "      <th>X</th>\n",
       "      <th>Y</th>\n",
       "      <th>OBJECTID</th>\n",
       "      <th>INCKEY</th>\n",
       "      <th>COLDETKEY</th>\n",
       "      <th>REPORTNO</th>\n",
       "      <th>STATUS</th>\n",
       "      <th>ADDRTYPE</th>\n",
       "      <th>INTKEY</th>\n",
       "      <th>LOCATION</th>\n",
       "      <th>EXCEPTRSNCODE</th>\n",
       "      <th>EXCEPTRSNDESC</th>\n",
       "      <th>SEVERITYCODE.1</th>\n",
       "      <th>SEVERITYDESC</th>\n",
       "      <th>COLLISIONTYPE</th>\n",
       "      <th>PERSONCOUNT</th>\n",
       "      <th>PEDCOUNT</th>\n",
       "      <th>PEDCYLCOUNT</th>\n",
       "      <th>VEHCOUNT</th>\n",
       "      <th>INCDATE</th>\n",
       "      <th>INCDTTM</th>\n",
       "      <th>JUNCTIONTYPE</th>\n",
       "      <th>SDOT_COLCODE</th>\n",
       "      <th>SDOT_COLDESC</th>\n",
       "      <th>INATTENTIONIND</th>\n",
       "      <th>UNDERINFL</th>\n",
       "      <th>WEATHER</th>\n",
       "      <th>ROADCOND</th>\n",
       "      <th>LIGHTCOND</th>\n",
       "      <th>PEDROWNOTGRNT</th>\n",
       "      <th>SDOTCOLNUM</th>\n",
       "      <th>SPEEDING</th>\n",
       "      <th>ST_COLCODE</th>\n",
       "      <th>ST_COLDESC</th>\n",
       "      <th>SEGLANEKEY</th>\n",
       "      <th>CROSSWALKKEY</th>\n",
       "      <th>HITPARKEDCAR</th>\n",
       "    </tr>\n",
       "  </thead>\n",
       "  <tbody>\n",
       "    <tr>\n",
       "      <th>0</th>\n",
       "      <td>2</td>\n",
       "      <td>-122.323148</td>\n",
       "      <td>47.703140</td>\n",
       "      <td>1</td>\n",
       "      <td>1307</td>\n",
       "      <td>1307</td>\n",
       "      <td>3502005</td>\n",
       "      <td>Matched</td>\n",
       "      <td>Intersection</td>\n",
       "      <td>37475.0</td>\n",
       "      <td>5TH AVE NE AND NE 103RD ST</td>\n",
       "      <td></td>\n",
       "      <td>NaN</td>\n",
       "      <td>2</td>\n",
       "      <td>Injury Collision</td>\n",
       "      <td>Angles</td>\n",
       "      <td>2</td>\n",
       "      <td>0</td>\n",
       "      <td>0</td>\n",
       "      <td>2</td>\n",
       "      <td>2013/03/27 00:00:00+00</td>\n",
       "      <td>3/27/2013 2:54:00 PM</td>\n",
       "      <td>At Intersection (intersection related)</td>\n",
       "      <td>11</td>\n",
       "      <td>MOTOR VEHICLE STRUCK MOTOR VEHICLE, FRONT END ...</td>\n",
       "      <td>NaN</td>\n",
       "      <td>N</td>\n",
       "      <td>Overcast</td>\n",
       "      <td>Wet</td>\n",
       "      <td>Daylight</td>\n",
       "      <td>NaN</td>\n",
       "      <td>NaN</td>\n",
       "      <td>NaN</td>\n",
       "      <td>10</td>\n",
       "      <td>Entering at angle</td>\n",
       "      <td>0</td>\n",
       "      <td>0</td>\n",
       "      <td>N</td>\n",
       "    </tr>\n",
       "    <tr>\n",
       "      <th>1</th>\n",
       "      <td>1</td>\n",
       "      <td>-122.347294</td>\n",
       "      <td>47.647172</td>\n",
       "      <td>2</td>\n",
       "      <td>52200</td>\n",
       "      <td>52200</td>\n",
       "      <td>2607959</td>\n",
       "      <td>Matched</td>\n",
       "      <td>Block</td>\n",
       "      <td>NaN</td>\n",
       "      <td>AURORA BR BETWEEN RAYE ST AND BRIDGE WAY N</td>\n",
       "      <td>NaN</td>\n",
       "      <td>NaN</td>\n",
       "      <td>1</td>\n",
       "      <td>Property Damage Only Collision</td>\n",
       "      <td>Sideswipe</td>\n",
       "      <td>2</td>\n",
       "      <td>0</td>\n",
       "      <td>0</td>\n",
       "      <td>2</td>\n",
       "      <td>2006/12/20 00:00:00+00</td>\n",
       "      <td>12/20/2006 6:55:00 PM</td>\n",
       "      <td>Mid-Block (not related to intersection)</td>\n",
       "      <td>16</td>\n",
       "      <td>MOTOR VEHICLE STRUCK MOTOR VEHICLE, LEFT SIDE ...</td>\n",
       "      <td>NaN</td>\n",
       "      <td>0</td>\n",
       "      <td>Raining</td>\n",
       "      <td>Wet</td>\n",
       "      <td>Dark - Street Lights On</td>\n",
       "      <td>NaN</td>\n",
       "      <td>6354039.0</td>\n",
       "      <td>NaN</td>\n",
       "      <td>11</td>\n",
       "      <td>From same direction - both going straight - bo...</td>\n",
       "      <td>0</td>\n",
       "      <td>0</td>\n",
       "      <td>N</td>\n",
       "    </tr>\n",
       "    <tr>\n",
       "      <th>2</th>\n",
       "      <td>1</td>\n",
       "      <td>-122.334540</td>\n",
       "      <td>47.607871</td>\n",
       "      <td>3</td>\n",
       "      <td>26700</td>\n",
       "      <td>26700</td>\n",
       "      <td>1482393</td>\n",
       "      <td>Matched</td>\n",
       "      <td>Block</td>\n",
       "      <td>NaN</td>\n",
       "      <td>4TH AVE BETWEEN SENECA ST AND UNIVERSITY ST</td>\n",
       "      <td>NaN</td>\n",
       "      <td>NaN</td>\n",
       "      <td>1</td>\n",
       "      <td>Property Damage Only Collision</td>\n",
       "      <td>Parked Car</td>\n",
       "      <td>4</td>\n",
       "      <td>0</td>\n",
       "      <td>0</td>\n",
       "      <td>3</td>\n",
       "      <td>2004/11/18 00:00:00+00</td>\n",
       "      <td>11/18/2004 10:20:00 AM</td>\n",
       "      <td>Mid-Block (not related to intersection)</td>\n",
       "      <td>14</td>\n",
       "      <td>MOTOR VEHICLE STRUCK MOTOR VEHICLE, REAR END</td>\n",
       "      <td>NaN</td>\n",
       "      <td>0</td>\n",
       "      <td>Overcast</td>\n",
       "      <td>Dry</td>\n",
       "      <td>Daylight</td>\n",
       "      <td>NaN</td>\n",
       "      <td>4323031.0</td>\n",
       "      <td>NaN</td>\n",
       "      <td>32</td>\n",
       "      <td>One parked--one moving</td>\n",
       "      <td>0</td>\n",
       "      <td>0</td>\n",
       "      <td>N</td>\n",
       "    </tr>\n",
       "    <tr>\n",
       "      <th>3</th>\n",
       "      <td>1</td>\n",
       "      <td>-122.334803</td>\n",
       "      <td>47.604803</td>\n",
       "      <td>4</td>\n",
       "      <td>1144</td>\n",
       "      <td>1144</td>\n",
       "      <td>3503937</td>\n",
       "      <td>Matched</td>\n",
       "      <td>Block</td>\n",
       "      <td>NaN</td>\n",
       "      <td>2ND AVE BETWEEN MARION ST AND MADISON ST</td>\n",
       "      <td></td>\n",
       "      <td>NaN</td>\n",
       "      <td>1</td>\n",
       "      <td>Property Damage Only Collision</td>\n",
       "      <td>Other</td>\n",
       "      <td>3</td>\n",
       "      <td>0</td>\n",
       "      <td>0</td>\n",
       "      <td>3</td>\n",
       "      <td>2013/03/29 00:00:00+00</td>\n",
       "      <td>3/29/2013 9:26:00 AM</td>\n",
       "      <td>Mid-Block (not related to intersection)</td>\n",
       "      <td>11</td>\n",
       "      <td>MOTOR VEHICLE STRUCK MOTOR VEHICLE, FRONT END ...</td>\n",
       "      <td>NaN</td>\n",
       "      <td>N</td>\n",
       "      <td>Clear</td>\n",
       "      <td>Dry</td>\n",
       "      <td>Daylight</td>\n",
       "      <td>NaN</td>\n",
       "      <td>NaN</td>\n",
       "      <td>NaN</td>\n",
       "      <td>23</td>\n",
       "      <td>From same direction - all others</td>\n",
       "      <td>0</td>\n",
       "      <td>0</td>\n",
       "      <td>N</td>\n",
       "    </tr>\n",
       "    <tr>\n",
       "      <th>4</th>\n",
       "      <td>2</td>\n",
       "      <td>-122.306426</td>\n",
       "      <td>47.545739</td>\n",
       "      <td>5</td>\n",
       "      <td>17700</td>\n",
       "      <td>17700</td>\n",
       "      <td>1807429</td>\n",
       "      <td>Matched</td>\n",
       "      <td>Intersection</td>\n",
       "      <td>34387.0</td>\n",
       "      <td>SWIFT AVE S AND SWIFT AV OFF RP</td>\n",
       "      <td>NaN</td>\n",
       "      <td>NaN</td>\n",
       "      <td>2</td>\n",
       "      <td>Injury Collision</td>\n",
       "      <td>Angles</td>\n",
       "      <td>2</td>\n",
       "      <td>0</td>\n",
       "      <td>0</td>\n",
       "      <td>2</td>\n",
       "      <td>2004/01/28 00:00:00+00</td>\n",
       "      <td>1/28/2004 8:04:00 AM</td>\n",
       "      <td>At Intersection (intersection related)</td>\n",
       "      <td>11</td>\n",
       "      <td>MOTOR VEHICLE STRUCK MOTOR VEHICLE, FRONT END ...</td>\n",
       "      <td>NaN</td>\n",
       "      <td>0</td>\n",
       "      <td>Raining</td>\n",
       "      <td>Wet</td>\n",
       "      <td>Daylight</td>\n",
       "      <td>NaN</td>\n",
       "      <td>4028032.0</td>\n",
       "      <td>NaN</td>\n",
       "      <td>10</td>\n",
       "      <td>Entering at angle</td>\n",
       "      <td>0</td>\n",
       "      <td>0</td>\n",
       "      <td>N</td>\n",
       "    </tr>\n",
       "  </tbody>\n",
       "</table>\n",
       "</div>"
      ],
      "text/plain": [
       "   SEVERITYCODE           X          Y  OBJECTID  INCKEY  COLDETKEY REPORTNO  \\\n",
       "0             2 -122.323148  47.703140         1    1307       1307  3502005   \n",
       "1             1 -122.347294  47.647172         2   52200      52200  2607959   \n",
       "2             1 -122.334540  47.607871         3   26700      26700  1482393   \n",
       "3             1 -122.334803  47.604803         4    1144       1144  3503937   \n",
       "4             2 -122.306426  47.545739         5   17700      17700  1807429   \n",
       "\n",
       "    STATUS      ADDRTYPE   INTKEY  \\\n",
       "0  Matched  Intersection  37475.0   \n",
       "1  Matched         Block      NaN   \n",
       "2  Matched         Block      NaN   \n",
       "3  Matched         Block      NaN   \n",
       "4  Matched  Intersection  34387.0   \n",
       "\n",
       "                                      LOCATION EXCEPTRSNCODE EXCEPTRSNDESC  \\\n",
       "0                   5TH AVE NE AND NE 103RD ST                         NaN   \n",
       "1   AURORA BR BETWEEN RAYE ST AND BRIDGE WAY N           NaN           NaN   \n",
       "2  4TH AVE BETWEEN SENECA ST AND UNIVERSITY ST           NaN           NaN   \n",
       "3     2ND AVE BETWEEN MARION ST AND MADISON ST                         NaN   \n",
       "4              SWIFT AVE S AND SWIFT AV OFF RP           NaN           NaN   \n",
       "\n",
       "   SEVERITYCODE.1                    SEVERITYDESC COLLISIONTYPE  PERSONCOUNT  \\\n",
       "0               2                Injury Collision        Angles            2   \n",
       "1               1  Property Damage Only Collision     Sideswipe            2   \n",
       "2               1  Property Damage Only Collision    Parked Car            4   \n",
       "3               1  Property Damage Only Collision         Other            3   \n",
       "4               2                Injury Collision        Angles            2   \n",
       "\n",
       "   PEDCOUNT  PEDCYLCOUNT  VEHCOUNT                 INCDATE  \\\n",
       "0         0            0         2  2013/03/27 00:00:00+00   \n",
       "1         0            0         2  2006/12/20 00:00:00+00   \n",
       "2         0            0         3  2004/11/18 00:00:00+00   \n",
       "3         0            0         3  2013/03/29 00:00:00+00   \n",
       "4         0            0         2  2004/01/28 00:00:00+00   \n",
       "\n",
       "                  INCDTTM                             JUNCTIONTYPE  \\\n",
       "0    3/27/2013 2:54:00 PM   At Intersection (intersection related)   \n",
       "1   12/20/2006 6:55:00 PM  Mid-Block (not related to intersection)   \n",
       "2  11/18/2004 10:20:00 AM  Mid-Block (not related to intersection)   \n",
       "3    3/29/2013 9:26:00 AM  Mid-Block (not related to intersection)   \n",
       "4    1/28/2004 8:04:00 AM   At Intersection (intersection related)   \n",
       "\n",
       "   SDOT_COLCODE                                       SDOT_COLDESC  \\\n",
       "0            11  MOTOR VEHICLE STRUCK MOTOR VEHICLE, FRONT END ...   \n",
       "1            16  MOTOR VEHICLE STRUCK MOTOR VEHICLE, LEFT SIDE ...   \n",
       "2            14       MOTOR VEHICLE STRUCK MOTOR VEHICLE, REAR END   \n",
       "3            11  MOTOR VEHICLE STRUCK MOTOR VEHICLE, FRONT END ...   \n",
       "4            11  MOTOR VEHICLE STRUCK MOTOR VEHICLE, FRONT END ...   \n",
       "\n",
       "  INATTENTIONIND UNDERINFL   WEATHER ROADCOND                LIGHTCOND  \\\n",
       "0            NaN         N  Overcast      Wet                 Daylight   \n",
       "1            NaN         0   Raining      Wet  Dark - Street Lights On   \n",
       "2            NaN         0  Overcast      Dry                 Daylight   \n",
       "3            NaN         N     Clear      Dry                 Daylight   \n",
       "4            NaN         0   Raining      Wet                 Daylight   \n",
       "\n",
       "  PEDROWNOTGRNT  SDOTCOLNUM SPEEDING ST_COLCODE  \\\n",
       "0           NaN         NaN      NaN         10   \n",
       "1           NaN   6354039.0      NaN         11   \n",
       "2           NaN   4323031.0      NaN         32   \n",
       "3           NaN         NaN      NaN         23   \n",
       "4           NaN   4028032.0      NaN         10   \n",
       "\n",
       "                                          ST_COLDESC  SEGLANEKEY  \\\n",
       "0                                  Entering at angle           0   \n",
       "1  From same direction - both going straight - bo...           0   \n",
       "2                             One parked--one moving           0   \n",
       "3                   From same direction - all others           0   \n",
       "4                                  Entering at angle           0   \n",
       "\n",
       "   CROSSWALKKEY HITPARKEDCAR  \n",
       "0             0            N  \n",
       "1             0            N  \n",
       "2             0            N  \n",
       "3             0            N  \n",
       "4             0            N  "
      ]
     },
     "execution_count": 179,
     "metadata": {},
     "output_type": "execute_result"
    }
   ],
   "source": [
    "# Reading the CSV file \"Data-Collisions\"\n",
    "\n",
    "df = pd.read_csv (r\"C:\\Users\\salma\\Desktop\\Data-Collisions.csv\")\n",
    "df.info()\n",
    "pd.options.display.max_columns=100\n",
    "df.head()"
   ]
  },
  {
   "cell_type": "markdown",
   "metadata": {},
   "source": [
    "# Checking the % of missing values in the columns"
   ]
  },
  {
   "cell_type": "code",
   "execution_count": 165,
   "metadata": {
    "pycharm": {
     "name": "#%%\n"
    },
    "scrolled": true
   },
   "outputs": [
    {
     "data": {
      "text/plain": [
       "SEVERITYCODE       0.00\n",
       "X                  2.74\n",
       "Y                  2.74\n",
       "OBJECTID           0.00\n",
       "INCKEY             0.00\n",
       "COLDETKEY          0.00\n",
       "REPORTNO           0.00\n",
       "STATUS             0.00\n",
       "ADDRTYPE           0.99\n",
       "INTKEY            66.57\n",
       "LOCATION           1.38\n",
       "EXCEPTRSNCODE     56.43\n",
       "EXCEPTRSNDESC     97.10\n",
       "SEVERITYCODE.1     0.00\n",
       "SEVERITYDESC       0.00\n",
       "COLLISIONTYPE      2.52\n",
       "PERSONCOUNT        0.00\n",
       "PEDCOUNT           0.00\n",
       "PEDCYLCOUNT        0.00\n",
       "VEHCOUNT           0.00\n",
       "INCDATE            0.00\n",
       "INCDTTM            0.00\n",
       "JUNCTIONTYPE       3.25\n",
       "SDOT_COLCODE       0.00\n",
       "SDOT_COLDESC       0.00\n",
       "INATTENTIONIND    84.69\n",
       "UNDERINFL          2.51\n",
       "WEATHER            2.61\n",
       "ROADCOND           2.57\n",
       "LIGHTCOND          2.66\n",
       "PEDROWNOTGRNT     97.60\n",
       "SDOTCOLNUM        40.96\n",
       "SPEEDING          95.21\n",
       "ST_COLCODE         0.01\n",
       "ST_COLDESC         2.52\n",
       "SEGLANEKEY         0.00\n",
       "CROSSWALKKEY       0.00\n",
       "HITPARKEDCAR       0.00\n",
       "dtype: float64"
      ]
     },
     "execution_count": 165,
     "metadata": {},
     "output_type": "execute_result"
    }
   ],
   "source": [
    "df.isna().mean().round(4) * 100"
   ]
  },
  {
   "cell_type": "code",
   "execution_count": 166,
   "metadata": {},
   "outputs": [
    {
     "data": {
      "text/plain": [
       "(194673, 38)"
      ]
     },
     "execution_count": 166,
     "metadata": {},
     "output_type": "execute_result"
    }
   ],
   "source": [
    "df.shape"
   ]
  },
  {
   "cell_type": "markdown",
   "metadata": {},
   "source": [
    "# Setting the list of features to include"
   ]
  },
  {
   "cell_type": "code",
   "execution_count": 167,
   "metadata": {},
   "outputs": [],
   "source": [
    "numeric_features = df[[\"PERSONCOUNT\",\"PEDCOUNT\",\"PEDCYLCOUNT\", \"VEHCOUNT\"]]\n",
    "\n",
    "categorical_features=df[[\"ADDRTYPE\",\"LOCATION\",\"COLLISIONTYPE\", \"INCDATE\",\"INCDTTM\",\"JUNCTIONTYPE\",\n",
    "        \"SDOT_COLDESC\", \"UNDERINFL\", \"WEATHER\", \"ROADCOND\", \"LIGHTCOND\", \"ST_COLDESC\", \"HITPARKEDCAR\"]]                   "
   ]
  },
  {
   "cell_type": "markdown",
   "metadata": {},
   "source": [
    "# Checking the Target Variable"
   ]
  },
  {
   "cell_type": "code",
   "execution_count": 168,
   "metadata": {},
   "outputs": [
    {
     "data": {
      "text/plain": [
       "1    136485\n",
       "2     58188\n",
       "Name: SEVERITYCODE, dtype: int64"
      ]
     },
     "execution_count": 168,
     "metadata": {},
     "output_type": "execute_result"
    }
   ],
   "source": [
    "df[\"SEVERITYCODE\"].value_counts()"
   ]
  },
  {
   "cell_type": "markdown",
   "metadata": {},
   "source": [
    "# Numeric Features"
   ]
  },
  {
   "cell_type": "code",
   "execution_count": 169,
   "metadata": {},
   "outputs": [
    {
     "data": {
      "text/html": [
       "<div>\n",
       "<style scoped>\n",
       "    .dataframe tbody tr th:only-of-type {\n",
       "        vertical-align: middle;\n",
       "    }\n",
       "\n",
       "    .dataframe tbody tr th {\n",
       "        vertical-align: top;\n",
       "    }\n",
       "\n",
       "    .dataframe thead th {\n",
       "        text-align: right;\n",
       "    }\n",
       "</style>\n",
       "<table border=\"1\" class=\"dataframe\">\n",
       "  <thead>\n",
       "    <tr style=\"text-align: right;\">\n",
       "      <th></th>\n",
       "      <th>PERSONCOUNT</th>\n",
       "      <th>PEDCOUNT</th>\n",
       "      <th>PEDCYLCOUNT</th>\n",
       "      <th>VEHCOUNT</th>\n",
       "    </tr>\n",
       "  </thead>\n",
       "  <tbody>\n",
       "    <tr>\n",
       "      <th>count</th>\n",
       "      <td>194673.000000</td>\n",
       "      <td>194673.000000</td>\n",
       "      <td>194673.000000</td>\n",
       "      <td>194673.000000</td>\n",
       "    </tr>\n",
       "    <tr>\n",
       "      <th>mean</th>\n",
       "      <td>2.444427</td>\n",
       "      <td>0.037139</td>\n",
       "      <td>0.028391</td>\n",
       "      <td>1.920780</td>\n",
       "    </tr>\n",
       "    <tr>\n",
       "      <th>std</th>\n",
       "      <td>1.345929</td>\n",
       "      <td>0.198150</td>\n",
       "      <td>0.167413</td>\n",
       "      <td>0.631047</td>\n",
       "    </tr>\n",
       "    <tr>\n",
       "      <th>min</th>\n",
       "      <td>0.000000</td>\n",
       "      <td>0.000000</td>\n",
       "      <td>0.000000</td>\n",
       "      <td>0.000000</td>\n",
       "    </tr>\n",
       "    <tr>\n",
       "      <th>25%</th>\n",
       "      <td>2.000000</td>\n",
       "      <td>0.000000</td>\n",
       "      <td>0.000000</td>\n",
       "      <td>2.000000</td>\n",
       "    </tr>\n",
       "    <tr>\n",
       "      <th>50%</th>\n",
       "      <td>2.000000</td>\n",
       "      <td>0.000000</td>\n",
       "      <td>0.000000</td>\n",
       "      <td>2.000000</td>\n",
       "    </tr>\n",
       "    <tr>\n",
       "      <th>75%</th>\n",
       "      <td>3.000000</td>\n",
       "      <td>0.000000</td>\n",
       "      <td>0.000000</td>\n",
       "      <td>2.000000</td>\n",
       "    </tr>\n",
       "    <tr>\n",
       "      <th>max</th>\n",
       "      <td>81.000000</td>\n",
       "      <td>6.000000</td>\n",
       "      <td>2.000000</td>\n",
       "      <td>12.000000</td>\n",
       "    </tr>\n",
       "  </tbody>\n",
       "</table>\n",
       "</div>"
      ],
      "text/plain": [
       "         PERSONCOUNT       PEDCOUNT    PEDCYLCOUNT       VEHCOUNT\n",
       "count  194673.000000  194673.000000  194673.000000  194673.000000\n",
       "mean        2.444427       0.037139       0.028391       1.920780\n",
       "std         1.345929       0.198150       0.167413       0.631047\n",
       "min         0.000000       0.000000       0.000000       0.000000\n",
       "25%         2.000000       0.000000       0.000000       2.000000\n",
       "50%         2.000000       0.000000       0.000000       2.000000\n",
       "75%         3.000000       0.000000       0.000000       2.000000\n",
       "max        81.000000       6.000000       2.000000      12.000000"
      ]
     },
     "execution_count": 169,
     "metadata": {},
     "output_type": "execute_result"
    }
   ],
   "source": [
    "numeric_features.describe()"
   ]
  },
  {
   "cell_type": "markdown",
   "metadata": {},
   "source": [
    "# Numeric Features Distribution"
   ]
  },
  {
   "cell_type": "code",
   "execution_count": 170,
   "metadata": {},
   "outputs": [
    {
     "data": {
      "image/png": "[encoded data removed]",
      "text/plain": [
       "<Figure size 576x576 with 4 Axes>"
      ]
     },
     "metadata": {
      "needs_background": "light"
     },
     "output_type": "display_data"
    }
   ],
   "source": [
    "numeric_features.hist(figsize=[8,8])\n",
    "plt.suptitle(\"Numeric features distribution\")\n",
    "plt.show()"
   ]
  },
  {
   "cell_type": "markdown",
   "metadata": {},
   "source": [
    "# Plotting the Under Influence of alcohol with the person count"
   ]
  },
  {
   "cell_type": "code",
   "execution_count": 171,
   "metadata": {
    "scrolled": true
   },
   "outputs": [
    {
     "data": {
      "image/png": "[encoded data removed]",
      "text/plain": [
       "<Figure size 432x288 with 1 Axes>"
      ]
     },
     "metadata": {
      "needs_background": "light"
     },
     "output_type": "display_data"
    }
   ],
   "source": [
    "sns.boxplot(x='UNDERINFL',y='PERSONCOUNT',data=df1)\n",
    "plt.show()"
   ]
  },
  {
   "cell_type": "markdown",
   "metadata": {},
   "source": [
    "# Categorical Features % of samples from the selected Data"
   ]
  },
  {
   "cell_type": "markdown",
   "metadata": {},
   "source": [
    "### 1.\"COLLISIONTYPE\""
   ]
  },
  {
   "cell_type": "code",
   "execution_count": 172,
   "metadata": {},
   "outputs": [
    {
     "name": "stdout",
     "output_type": "stream",
     "text": [
      "            counts Percent\n",
      "Parked Car   47987   25.3%\n",
      "Angles       34674   18.3%\n",
      "Rear Ended   34090   18.0%\n",
      "Other        23703   12.5%\n",
      "Sideswipe    18609    9.8%\n",
      "Left Turn    13703    7.2%\n",
      "Pedestrian    6608    3.5%\n",
      "Cycles        5415    2.9%\n",
      "Right Turn    2956    1.6%\n",
      "Head On       2024    1.1%\n"
     ]
    }
   ],
   "source": [
    "counts = categorical_features[\"COLLISIONTYPE\"].value_counts()\n",
    "percent100 = categorical_features[\"COLLISIONTYPE\"].value_counts(normalize=True).mul(100).round(1).astype(str) + '%'\n",
    "collision=pd.DataFrame({'counts': counts, 'Percent': percent100})\n",
    "print(collision)"
   ]
  },
  {
   "cell_type": "markdown",
   "metadata": {},
   "source": [
    "### 2.\"LIGHTCOND\""
   ]
  },
  {
   "cell_type": "code",
   "execution_count": 173,
   "metadata": {},
   "outputs": [
    {
     "name": "stdout",
     "output_type": "stream",
     "text": [
      "                          counts Percent\n",
      "Daylight                  116137   61.3%\n",
      "Dark - Street Lights On    48507   25.6%\n",
      "Unknown                    13473    7.1%\n",
      "Dusk                        5902    3.1%\n",
      "Dawn                        2502    1.3%\n",
      "Dark - No Street Lights     1537    0.8%\n",
      "Dark - Street Lights Off    1199    0.6%\n",
      "Other                        235    0.1%\n",
      "Dark - Unknown Lighting       11    0.0%\n"
     ]
    }
   ],
   "source": [
    "counts = categorical_features[\"LIGHTCOND\"].value_counts()\n",
    "percent100 = categorical_features[\"LIGHTCOND\"].value_counts(normalize=True).mul(100).round(1).astype(str) + '%'\n",
    "light_conditions=pd.DataFrame({'counts': counts, 'Percent': percent100})\n",
    "print(light_conditions)"
   ]
  },
  {
   "cell_type": "markdown",
   "metadata": {},
   "source": [
    "### 3.\"ROADCOND\""
   ]
  },
  {
   "cell_type": "code",
   "execution_count": 174,
   "metadata": {},
   "outputs": [
    {
     "name": "stdout",
     "output_type": "stream",
     "text": [
      "                counts Percent\n",
      "Dry             124510   65.6%\n",
      "Wet              47474   25.0%\n",
      "Unknown          15078    7.9%\n",
      "Ice               1209    0.6%\n",
      "Snow/Slush        1004    0.5%\n",
      "Other              132    0.1%\n",
      "Standing Water     115    0.1%\n",
      "Sand/Mud/Dirt       75    0.0%\n",
      "Oil                 64    0.0%\n"
     ]
    }
   ],
   "source": [
    "counts = categorical_features[\"ROADCOND\"].value_counts()\n",
    "percent100 = categorical_features[\"ROADCOND\"].value_counts(normalize=True).mul(100).round(1).astype(str) + '%'\n",
    "road_condition=pd.DataFrame({'counts': counts, 'Percent': percent100})\n",
    "print(road_condition)"
   ]
  },
  {
   "cell_type": "markdown",
   "metadata": {},
   "source": [
    "### 4.\"SDOT_COLDESC\""
   ]
  },
  {
   "cell_type": "code",
   "execution_count": 175,
   "metadata": {},
   "outputs": [
    {
     "name": "stdout",
     "output_type": "stream",
     "text": [
      "                                                    counts Percent\n",
      "MOTOR VEHICLE STRUCK MOTOR VEHICLE, FRONT END A...   85209   43.8%\n",
      "MOTOR VEHICLE STRUCK MOTOR VEHICLE, REAR END         54299   27.9%\n",
      "MOTOR VEHICLE STRUCK MOTOR VEHICLE, LEFT SIDE S...    9928    5.1%\n",
      "NOT ENOUGH INFORMATION / NOT APPLICABLE               9787    5.0%\n",
      "MOTOR VEHICLE RAN OFF ROAD - HIT FIXED OBJECT         8856    4.5%\n",
      "MOTOR VEHCILE STRUCK PEDESTRIAN                       6518    3.3%\n",
      "MOTOR VEHICLE STRUCK MOTOR VEHICLE, LEFT SIDE A...    5852    3.0%\n",
      "MOTOR VEHICLE STRUCK OBJECT IN ROAD                   4741    2.4%\n",
      "MOTOR VEHICLE STRUCK PEDALCYCLIST, FRONT END AT...    3104    1.6%\n",
      "MOTOR VEHICLE STRUCK MOTOR VEHICLE, RIGHT SIDE ...    1604    0.8%\n",
      "MOTOR VEHICLE STRUCK MOTOR VEHICLE, RIGHT SIDE ...    1440    0.7%\n",
      "PEDALCYCLIST STRUCK MOTOR VEHICLE FRONT END AT ...    1312    0.7%\n",
      "MOTOR VEHICLE OVERTURNED IN ROAD                       479    0.2%\n",
      "MOTOR VEHICLE STRUCK PEDALCYCLIST, REAR END            181    0.1%\n",
      "PEDALCYCLIST STRUCK MOTOR VEHICLE LEFT SIDE SID...     180    0.1%\n",
      "MOTOR VEHICLE RAN OFF ROAD - NO COLLISION              166    0.1%\n",
      "PEDALCYCLIST STRUCK MOTOR VEHICLE REAR END             139    0.1%\n",
      "MOTOR VEHICLE STRUCK PEDALCYCLIST, LEFT SIDE SI...     124    0.1%\n",
      "DRIVERLESS VEHICLE RAN OFF ROAD - HIT FIXED OBJECT     107    0.1%\n",
      "DRIVERLESS VEHICLE STRUCK MOTOR VEHICLE FRONT E...     104    0.1%\n",
      "MOTOR VEHICLE STRUCK TRAIN                             102    0.1%\n",
      "DRIVERLESS VEHICLE STRUCK MOTOR VEHICLE REAR END        93    0.0%\n",
      "PEDALCYCLIST STRUCK PEDESTRIAN                          75    0.0%\n",
      "PEDALCYCLIST OVERTURNED IN ROAD                         69    0.0%\n",
      "DRIVERLESS VEHICLE STRUCK MOTOR VEHICLE LEFT SI...      53    0.0%\n",
      "PEDALCYCLIST STRUCK MOTOR VEHICLE RIGHT SIDE SI...      50    0.0%\n",
      "PEDALCYCLIST STRUCK OBJECT IN ROAD                      23    0.0%\n",
      "MOTOR VEHICLE STRUCK PEDALCYCLIST, RIGHT SIDE S...      17    0.0%\n",
      "DRIVERLESS VEHICLE STRUCK MOTOR VEHICLE RIGHT S...      12    0.0%\n",
      "PEDALCYCLIST STRUCK MOTOR VEHICLE LEFT SIDE AT ...       9    0.0%\n",
      "DRIVERLESS VEHICLE STRUCK PEDESTRIAN                     8    0.0%\n",
      "PEDALCYCLIST STRUCK PEDALCYCLIST REAR END                7    0.0%\n",
      "DRIVERLESS VEHICLE STRUCK MOTOR VEHICLE RIGHT S...       6    0.0%\n",
      "PEDALCYCLIST STRUCK PEDALCYCLIST FRONT END AT A...       5    0.0%\n",
      "DRIVERLESS VEHICLE STRUCK MOTOR VEHICLE LEFT SI...       4    0.0%\n",
      "PEDALCYCLIST RAN OFF ROAD - HIT FIXED OBJECT             4    0.0%\n",
      "DRIVERLESS VEHICLE STRUCK OBJECT IN ROADWAY              3    0.0%\n",
      "PEDALCYCLIST STRUCK MOTOR VEHICLE RIGHT SIDE AT...       2    0.0%\n",
      "DRIVERLESS VEHICLE RAN OFF ROAD - NO COLLISION           1    0.0%\n"
     ]
    }
   ],
   "source": [
    "counts = categorical_features[\"SDOT_COLDESC\"].value_counts()\n",
    "percent100 = categorical_features[\"SDOT_COLDESC\"].value_counts(normalize=True).mul(100).round(1).astype(str) + '%'\n",
    "collision_desc=pd.DataFrame({'counts': counts, 'Percent': percent100})\n",
    "print(collision_desc)"
   ]
  },
  {
   "cell_type": "markdown",
   "metadata": {},
   "source": [
    "### 5.\"WEATHER\""
   ]
  },
  {
   "cell_type": "code",
   "execution_count": 176,
   "metadata": {},
   "outputs": [
    {
     "name": "stdout",
     "output_type": "stream",
     "text": [
      "                          counts Percent\n",
      "Clear                     111135   58.6%\n",
      "Raining                    33145   17.5%\n",
      "Overcast                   27714   14.6%\n",
      "Unknown                    15091    8.0%\n",
      "Snowing                      907    0.5%\n",
      "Other                        832    0.4%\n",
      "Fog/Smog/Smoke               569    0.3%\n",
      "Sleet/Hail/Freezing Rain     113    0.1%\n",
      "Blowing Sand/Dirt             56    0.0%\n",
      "Severe Crosswind              25    0.0%\n",
      "Partly Cloudy                  5    0.0%\n"
     ]
    }
   ],
   "source": [
    "counts = categorical_features[\"WEATHER\"].value_counts()\n",
    "percent100 = categorical_features[\"WEATHER\"].value_counts(normalize=True).mul(100).round(1).astype(str) + '%'\n",
    "weather=pd.DataFrame({'counts': counts, 'Percent': percent100})\n",
    "print(weather)"
   ]
  },
  {
   "cell_type": "markdown",
   "metadata": {},
   "source": [
    "### 6.\"JUNCTIONTYPE\""
   ]
  },
  {
   "cell_type": "code",
   "execution_count": 177,
   "metadata": {},
   "outputs": [
    {
     "name": "stdout",
     "output_type": "stream",
     "text": [
      "                                                   counts Percent\n",
      "Mid-Block (not related to intersection)             89800   47.7%\n",
      "At Intersection (intersection related)              62810   33.3%\n",
      "Mid-Block (but intersection related)                22790   12.1%\n",
      "Driveway Junction                                   10671    5.7%\n",
      "At Intersection (but not related to intersection)    2098    1.1%\n",
      "Ramp Junction                                         166    0.1%\n",
      "Unknown                                                 9    0.0%\n"
     ]
    }
   ],
   "source": [
    "counts = categorical_features[\"JUNCTIONTYPE\"].value_counts()\n",
    "percent100 = categorical_features[\"JUNCTIONTYPE\"].value_counts(normalize=True).mul(100).round(1).astype(str) + '%'\n",
    "junction=pd.DataFrame({'counts': counts, 'Percent': percent100})\n",
    "print(junction)"
   ]
  },
  {
   "cell_type": "markdown",
   "metadata": {},
   "source": [
    "### 7.\"UNDERINFL\""
   ]
  },
  {
   "cell_type": "code",
   "execution_count": 178,
   "metadata": {},
   "outputs": [
    {
     "name": "stdout",
     "output_type": "stream",
     "text": [
      "   counts Percent\n",
      "N  100274   52.8%\n",
      "0   80394   42.4%\n",
      "Y    5126    2.7%\n",
      "1    3995    2.1%\n"
     ]
    }
   ],
   "source": [
    "counts = categorical_features[\"UNDERINFL\"].value_counts()\n",
    "percent100 = categorical_features[\"UNDERINFL\"].value_counts(normalize=True).mul(100).round(1).astype(str) + '%'\n",
    "under_influence=pd.DataFrame({'counts': counts, 'Percent': percent100})\n",
    "print(under_influence)"
   ]
  }
 ],
 "metadata": {
  "kernelspec": {
   "display_name": "Python 3",
   "language": "python",
   "name": "python3"
  },
  "language_info": {
   "codemirror_mode": {
    "name": "ipython",
    "version": 3
   },
   "file_extension": ".py",
   "mimetype": "text/x-python",
   "name": "python",
   "nbconvert_exporter": "python",
   "pygments_lexer": "ipython3",
   "version": "3.8.5"
  }
 },
 "nbformat": 4,
 "nbformat_minor": 1
}
