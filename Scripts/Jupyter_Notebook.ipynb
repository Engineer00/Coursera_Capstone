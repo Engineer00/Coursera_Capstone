{
 "cells": [
  {
   "cell_type": "markdown",
   "metadata": {
    "pycharm": {
     "name": "#%% md\n"
    }
   },
   "source": [
    "# This notebook will be mainly used for the Capstone Project"
   ]
  },
  {
   "cell_type": "code",
   "execution_count": 61,
   "metadata": {
    "pycharm": {
     "name": "#%%\n"
    }
   },
   "outputs": [
    {
     "name": "stdout",
     "output_type": "stream",
     "text": [
      "Hello Capstone Project Course!\n"
     ]
    }
   ],
   "source": [
    "import pandas as pd\n",
    "\n",
    "import numpy as np\n",
    "\n",
    "\n",
    "print(\"Hello Capstone Project Course!\")"
   ]
  },
  {
   "cell_type": "markdown",
   "metadata": {
    "pycharm": {
     "name": "#%% md\n"
    }
   },
   "source": [
    "# Introduction & Business Understanding\n",
    "\n",
    "Road accidents are one of the major causes of death and disability all over the world. Reason for road accidents can be\n",
    "environmental conditions such as weather, traffic on road, type of road, speed and light conditions. The paper addresses \n",
    "the in-depth analysis that identifies as the contributory factors behind the road accidents and the quantification of the \n",
    "factors that affect the frequency and severity of accidents based on the crash data available.The severity of each accident\n",
    "can be predicted quite accurately with various classification machine learning algorithms. This can ultimately help \n",
    "government, traffic police, medical institutions, individual drivers and the insurance companies by getting \n",
    "useful insights of the accident severity regarding the causes and consequences of the accidents.The Machine Learning model\n",
    "and its results are going to provide some advice for the target audience to make insightful decisions for reducing\n",
    "the number of accidents and injuries for the city. The model will predict the accident severity with various\n",
    "supervised machine learning algorithms i.e.\n",
    "Algorithm A. Logistic regression\n",
    "Algorithm B. The K-Nearest Neighbors (KNN) algorithm\n",
    "Algorithm C. Decision Tree\n",
    "Algorithm D. Random Forest\n",
    "And finally, the accuracy score versus algorithm will be plotted to check which algorithm performs better."
   ]
  },
  {
   "cell_type": "markdown",
   "metadata": {
    "pycharm": {
     "name": "#%% md\n"
    }
   },
   "source": [
    "# Data\n",
    "\n",
    "The data used for this project was collected by the SDOT traffic management Division and Seattle Traffic Records Group \n",
    "from 2004 to present. It was downloaded from the link shared in the IBM Applied Data Science Capstone course.\n",
    "The data consists of 38 independent variables and 194,673 rows. The dependent variable, “SEVERITYCODE”, contains \n",
    "numbers that correspond to different levels of severity caused by an accident from 1 to 2. Severity codes are as follows: \n",
    "1: Property Damage Only Collision \n",
    "2: Injury Collision\n",
    "Furthermore, as there are null values in some records, the data needs to be pre-processed before any further processing."
   ]
  }
 ],
 "metadata": {
  "kernelspec": {
   "display_name": "Python 3",
   "language": "python",
   "name": "python3"
  },
  "language_info": {
   "codemirror_mode": {
    "name": "ipython",
    "version": 3
   },
   "file_extension": ".py",
   "mimetype": "text/x-python",
   "name": "python",
   "nbconvert_exporter": "python",
   "pygments_lexer": "ipython3",
   "version": "3.8.5"
  }
 },
 "nbformat": 4,
 "nbformat_minor": 1
}