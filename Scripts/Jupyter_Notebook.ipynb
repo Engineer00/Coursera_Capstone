{
 "cells": [
  {
   "cell_type": "markdown",
   "source": [
    "# This notebook will be mainly used for the Capstone Project"
   ],
   "metadata": {
    "collapsed": false
   }
  },
  {
   "cell_type": "code",
   "execution_count": null,
   "outputs": [],
   "source": [
    "import pandas as pd\n",
    "\n",
    "import numpy as np\n",
    "import sklearn\n",
    "from sklearn.preprocessing import LabelEncoder\n",
    "import matplotlib.pyplot as plt\n",
    "import seaborn as sns\n",
    "\n",
    "print(\"Hello Capstone Project Course!\")"
   ],
   "metadata": {
    "collapsed": false,
    "pycharm": {
     "name": "#%%\n"
    }
   }
  },
  {
   "cell_type": "markdown",
   "source": [
    "# Introduction & Business Understanding\n",
    "\n",
    "Road accidents are one of the major causes of death and disability all over the world. Reason for road accidents can be\n",
    "environmental conditions such as weather, traffic on road, type of road, speed and light conditions. The paper addresses \n",
    "the in-depth analysis that identifies as the contributory factors behind the road accidents and the quantification of the \n",
    "factors that affect the frequency and severity of accidents based on the crash data available.The severity of each accident\n",
    "can be predicted quite accurately with various classification machine learning algorithms. This can ultimately help \n",
    "government, traffic police, medical institutions, individual drivers and the insurance companies by getting \n",
    "useful insights of the accident severity regarding the causes and consequences of the accidents.The Machine Learning model\n",
    "and its results are going to provide some advice for the target audience to make insightful decisions for reducing\n",
    "the number of accidents and injuries for the city. The model will predict the accident severity with various\n",
    "supervised machine learning algorithms i.e.\n",
    "Algorithm A. Logistic regression\n",
    "Algorithm B. The K-Nearest Neighbors (KNN) algorithm\n",
    "Algorithm C. Decision Tree\n",
    "Algorithm D. Random Forest\n",
    "And finally, the accuracy score versus algorithm will be plotted to check which algorithm performs better."
   ],
   "metadata": {
    "collapsed": false
   }
  },
  {
   "cell_type": "markdown",
   "source": [
    "# Data\n",
    "\n",
    "The data used for this project was collected by the SDOT traffic management Division and Seattle Traffic Records Group \n",
    "from 2004 to present. It was downloaded from the link shared in the IBM Applied Data Science Capstone course.\n",
    "The data consists of 38 independent variables and 194,673 rows. The dependent variable, “SEVERITYCODE”, contains \n",
    "numbers that correspond to different levels of severity caused by an accident from 1 to 2. Severity codes are as follows: \n",
    "1: Property Damage Only Collision \n",
    "2: Injury Collision\n",
    "Furthermore, as there are null values in some records, the data needs to be pre-processed before any further processing."
   ],
   "metadata": {
    "collapsed": false
   }
  },
  {
   "cell_type": "markdown",
   "source": [
    "# Reading the CSV Data"
   ],
   "metadata": {
    "collapsed": false
   }
  },
  {
   "cell_type": "code",
   "execution_count": null,
   "outputs": [],
   "source": [
    "# Reading the CSV file \"Data-Collisions\"\n",
    "\n",
    "df = pd.read_csv (r\"C:\\Users\\salma\\Desktop\\Data-Collisions.csv\")\n",
    "df.info()\n",
    "pd.options.display.max_columns=100\n",
    "df.head()"
   ],
   "metadata": {
    "collapsed": false,
    "pycharm": {
     "name": "#%%\n"
    }
   }
  },
  {
   "cell_type": "markdown",
   "source": [
    "# Checking the % of missing values in the columns"
   ],
   "metadata": {
    "collapsed": false
   }
  },
  {
   "cell_type": "code",
   "execution_count": null,
   "outputs": [],
   "source": [
    "df.isna().mean().round(4) * 100"
   ],
   "metadata": {
    "collapsed": false,
    "pycharm": {
     "name": "#%%\n"
    }
   }
  },
  {
   "cell_type": "code",
   "execution_count": null,
   "outputs": [],
   "source": [
    "df.shape"
   ],
   "metadata": {
    "collapsed": false,
    "pycharm": {
     "name": "#%%\n"
    }
   }
  },
  {
   "cell_type": "markdown",
   "source": [
    "# Setting the list of features to include"
   ],
   "metadata": {
    "collapsed": false
   }
  },
  {
   "cell_type": "code",
   "execution_count": null,
   "outputs": [],
   "source": [
    "numeric_features = df[[\"PERSONCOUNT\",\"PEDCOUNT\",\"PEDCYLCOUNT\", \"VEHCOUNT\"]]\n",
    "\n",
    "categorical_features=df[[\"ADDRTYPE\",\"LOCATION\",\"COLLISIONTYPE\", \"INCDATE\",\"INCDTTM\",\"JUNCTIONTYPE\",\n",
    "        \"SDOT_COLDESC\", \"UNDERINFL\", \"WEATHER\", \"ROADCOND\", \"LIGHTCOND\", \"ST_COLDESC\", \"HITPARKEDCAR\"]]                   "
   ],
   "metadata": {
    "collapsed": false,
    "pycharm": {
     "name": "#%%\n"
    }
   }
  },
  {
   "cell_type": "markdown",
   "source": [
    "# Checking the Target Variable"
   ],
   "metadata": {
    "collapsed": false
   }
  },
  {
   "cell_type": "code",
   "execution_count": null,
   "outputs": [],
   "source": [
    "df[\"SEVERITYCODE\"].value_counts()"
   ],
   "metadata": {
    "collapsed": false,
    "pycharm": {
     "name": "#%%\n"
    }
   }
  },
  {
   "cell_type": "markdown",
   "source": [
    "# Numeric Features"
   ],
   "metadata": {
    "collapsed": false
   }
  },
  {
   "cell_type": "code",
   "execution_count": null,
   "outputs": [],
   "source": [
    "numeric_features.describe()"
   ],
   "metadata": {
    "collapsed": false,
    "pycharm": {
     "name": "#%%\n"
    }
   }
  },
  {
   "cell_type": "markdown",
   "source": [
    "# Numeric Features Distribution"
   ],
   "metadata": {
    "collapsed": false
   }
  },
  {
   "cell_type": "code",
   "execution_count": null,
   "outputs": [],
   "source": [
    "numeric_features.hist(figsize=[8,8])\n",
    "plt.suptitle(\"Numeric features distribution\")\n",
    "plt.show()"
   ],
   "metadata": {
    "collapsed": false,
    "pycharm": {
     "name": "#%%\n"
    }
   }
  },
  {
   "cell_type": "markdown",
   "source": [
    "# Plotting the Under Influence of alcohol with the person count"
   ],
   "metadata": {
    "collapsed": false
   }
  },
  {
   "cell_type": "code",
   "execution_count": null,
   "outputs": [],
   "source": [
    "sns.boxplot(x='UNDERINFL',y='PERSONCOUNT',data=df1)\n",
    "plt.show()"
   ],
   "metadata": {
    "collapsed": false,
    "pycharm": {
     "name": "#%%\n"
    }
   }
  },
  {
   "cell_type": "markdown",
   "source": [
    "# Categorical Features % of samples from the selected Data"
   ],
   "metadata": {
    "collapsed": false
   }
  },
  {
   "cell_type": "markdown",
   "source": [
    "### 1.\"COLLISIONTYPE\""
   ],
   "metadata": {
    "collapsed": false
   }
  },
  {
   "cell_type": "code",
   "execution_count": null,
   "outputs": [],
   "source": [
    "counts = categorical_features[\"COLLISIONTYPE\"].value_counts()\n",
    "percent100 = categorical_features[\"COLLISIONTYPE\"].value_counts(normalize=True).mul(100).round(1).astype(str) + '%'\n",
    "collision=pd.DataFrame({'counts': counts, 'Percent': percent100})\n",
    "print(collision)"
   ],
   "metadata": {
    "collapsed": false,
    "pycharm": {
     "name": "#%%\n"
    }
   }
  },
  {
   "cell_type": "markdown",
   "source": [
    "### 2.\"LIGHTCOND\""
   ],
   "metadata": {
    "collapsed": false
   }
  },
  {
   "cell_type": "code",
   "execution_count": null,
   "outputs": [],
   "source": [
    "counts = categorical_features[\"LIGHTCOND\"].value_counts()\n",
    "percent100 = categorical_features[\"LIGHTCOND\"].value_counts(normalize=True).mul(100).round(1).astype(str) + '%'\n",
    "light_conditions=pd.DataFrame({'counts': counts, 'Percent': percent100})\n",
    "print(light_conditions)"
   ],
   "metadata": {
    "collapsed": false,
    "pycharm": {
     "name": "#%%\n"
    }
   }
  },
  {
   "cell_type": "markdown",
   "source": [
    "### 3.\"ROADCOND\""
   ],
   "metadata": {
    "collapsed": false
   }
  },
  {
   "cell_type": "code",
   "execution_count": null,
   "outputs": [],
   "source": [
    "counts = categorical_features[\"ROADCOND\"].value_counts()\n",
    "percent100 = categorical_features[\"ROADCOND\"].value_counts(normalize=True).mul(100).round(1).astype(str) + '%'\n",
    "road_condition=pd.DataFrame({'counts': counts, 'Percent': percent100})\n",
    "print(road_condition)"
   ],
   "metadata": {
    "collapsed": false,
    "pycharm": {
     "name": "#%%\n"
    }
   }
  },
  {
   "cell_type": "markdown",
   "source": [
    "### 4.\"SDOT_COLDESC\""
   ],
   "metadata": {
    "collapsed": false
   }
  },
  {
   "cell_type": "code",
   "execution_count": null,
   "outputs": [],
   "source": [
    "counts = categorical_features[\"SDOT_COLDESC\"].value_counts()\n",
    "percent100 = categorical_features[\"SDOT_COLDESC\"].value_counts(normalize=True).mul(100).round(1).astype(str) + '%'\n",
    "collision_desc=pd.DataFrame({'counts': counts, 'Percent': percent100})\n",
    "print(collision_desc)"
   ],
   "metadata": {
    "collapsed": false,
    "pycharm": {
     "name": "#%%\n"
    }
   }
  },
  {
   "cell_type": "markdown",
   "source": [
    "### 5.\"WEATHER\""
   ],
   "metadata": {
    "collapsed": false
   }
  },
  {
   "cell_type": "code",
   "execution_count": null,
   "outputs": [],
   "source": [
    "counts = categorical_features[\"WEATHER\"].value_counts()\n",
    "percent100 = categorical_features[\"WEATHER\"].value_counts(normalize=True).mul(100).round(1).astype(str) + '%'\n",
    "weather=pd.DataFrame({'counts': counts, 'Percent': percent100})\n",
    "print(weather)"
   ],
   "metadata": {
    "collapsed": false,
    "pycharm": {
     "name": "#%%\n"
    }
   }
  },
  {
   "cell_type": "markdown",
   "source": [
    "### 6.\"JUNCTIONTYPE\""
   ],
   "metadata": {
    "collapsed": false
   }
  },
  {
   "cell_type": "code",
   "execution_count": null,
   "outputs": [],
   "source": [
    "counts = categorical_features[\"JUNCTIONTYPE\"].value_counts()\n",
    "percent100 = categorical_features[\"JUNCTIONTYPE\"].value_counts(normalize=True).mul(100).round(1).astype(str) + '%'\n",
    "junction=pd.DataFrame({'counts': counts, 'Percent': percent100})\n",
    "print(junction)"
   ],
   "metadata": {
    "collapsed": false,
    "pycharm": {
     "name": "#%%\n"
    }
   }
  },
  {
   "cell_type": "markdown",
   "source": [
    "### 7.\"UNDERINFL\""
   ],
   "metadata": {
    "collapsed": false
   }
  },
  {
   "cell_type": "code",
   "execution_count": null,
   "outputs": [],
   "source": [
    "counts = categorical_features[\"UNDERINFL\"].value_counts()\n",
    "percent100 = categorical_features[\"UNDERINFL\"].value_counts(normalize=True).mul(100).round(1).astype(str) + '%'\n",
    "under_influence=pd.DataFrame({'counts': counts, 'Percent': percent100})\n",
    "print(under_influence)"
   ],
   "metadata": {
    "collapsed": false,
    "pycharm": {
     "name": "#%%\n"
    }
   }
  }
 ],
 "metadata": {
  "kernelspec": {
   "display_name": "Python 3",
   "language": "python",
   "name": "python3"
  },
  "language_info": {
   "codemirror_mode": {
    "name": "ipython",
    "version": 3
   },
   "file_extension": ".py",
   "mimetype": "text/x-python",
   "name": "python",
   "nbconvert_exporter": "python",
   "pygments_lexer": "ipython3",
   "version": "3.8.5"
  }
 },
 "nbformat": 4,
 "nbformat_minor": 1
}